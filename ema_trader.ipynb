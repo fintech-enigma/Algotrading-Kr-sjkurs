{
 "cells": [
  {
   "cell_type": "code",
   "execution_count": 1,
   "metadata": {},
   "outputs": [],
   "source": [
    "import alpaca_trade_api as tradeapi\n",
    "import pandas as pd\n",
    "import pandas_ta as ta\n",
    "import matplotlib.pyplot as plt\n",
    "import os\n",
    "from dotenv import load_dotenv"
   ]
  },
  {
   "cell_type": "code",
   "execution_count": 2,
   "metadata": {},
   "outputs": [],
   "source": [
    "load_dotenv()\n",
    "API_KEY = os.getenv('API_KEY')\n",
    "SECRET_KEY = os.getenv('SECRET_KEY')\n",
    "END_POINT = os.getenv('END_POINT')\n"
   ]
  },
  {
   "cell_type": "code",
   "execution_count": 3,
   "metadata": {},
   "outputs": [],
   "source": [
    "api = tradeapi.REST(API_KEY, SECRET_KEY, END_POINT, api_version='v2')"
   ]
  },
  {
   "cell_type": "code",
   "execution_count": null,
   "metadata": {},
   "outputs": [],
   "source": [
    "symbol = 'BYND'\n",
    "timeframe = '1min'  \n",
    "start_date = '2021-01-01'\n",
    "end_date = '2022-01-01'\n",
    "\n",
    "bars = api.get_bars(symbol, timeframe, start=start_date, end=end_date).df\n",
    "\n",
    "bars.index = pd.to_datetime(bars.index)\n",
    "bars = bars[['open', 'high', 'low', 'close', 'volume']]\n",
    "# Calculate EMA \n",
    "bars['ema_12'] = ta.ema(bars['close'], length=12)\n",
    "bars['ema_26'] = ta.ema(bars['close'], length=26)\n",
    "\n",
    "bars.dropna(inplace=True)\n",
    "\n",
    "\n",
    "bars['signal'] = 0\n",
    "bars['signal'][bars['ema_12'] < bars['ema_26']] = 1  # Buy\n",
    "bars['signal'][bars['ema_12'] > bars['ema_26']] = -1  # Sell\n",
    "\n",
    "bars['position'] = 0  \n",
    "bars"
   ]
  },
  {
   "cell_type": "code",
   "execution_count": 39,
   "metadata": {},
   "outputs": [],
   "source": [
    "\n",
    "positions = [0]  \n",
    "\n",
    "for i in range(1, len(bars)):\n",
    "    if bars['signal'].iloc[i] == 1 and positions[-1] == 0:\n",
    "        positions.append(1)  # Buy\n",
    "    elif bars['signal'].iloc[i] == -1 and positions[-1] == 1:\n",
    "        positions.append(0)  # Sell\n",
    "    else:\n",
    "        positions.append(positions[-1]) # Hold\n",
    "\n",
    "bars['position'] = positions"
   ]
  },
  {
   "cell_type": "code",
   "execution_count": null,
   "metadata": {},
   "outputs": [],
   "source": [
    "portfolio_values = []\n",
    "stock_values = []\n",
    "\n",
    "cash = 10000 \n",
    "position = 0  \n",
    "shares = 0  \n",
    "\n",
    "# Simulate trading\n",
    "for index, row in bars.iterrows():\n",
    "    # Buy \n",
    "    if row['position'] == 1 and cash >= row['close']: \n",
    "        shares_to_buy = cash // row['close'] \n",
    "        buy_price = row['close']\n",
    "        cash -= shares_to_buy * buy_price  \n",
    "        shares += shares_to_buy  \n",
    "        print(f\"Buying {shares_to_buy} shares @ {buy_price} on {index}\")\n",
    "\n",
    "    # Sell \n",
    "    elif row['position'] == 0 and shares > 0:\n",
    "        sell_price = row['close']\n",
    "        cash += shares * sell_price \n",
    "        shares = 0  \n",
    "        print(f\"Selling all shares @ {sell_price} on {index}\")\n",
    "\n",
    "    portfolio_value = cash + shares * row['close']\n",
    "    portfolio_values.append(portfolio_value)\n",
    "\n",
    "    stock_values.append(row['close'])\n",
    "\n",
    "portfolio_value = cash + shares * bars.iloc[-1]['close']\n",
    "print(f\"Final Portfolio Value: ${portfolio_value:.2f}\")"
   ]
  },
  {
   "cell_type": "code",
   "execution_count": null,
   "metadata": {},
   "outputs": [],
   "source": [
    "performance_df = pd.DataFrame({\n",
    "    'portfolio_value': portfolio_values,\n",
    "    'stock_value': stock_values\n",
    "}, index=bars.index)\n",
    "\n",
    "\n",
    "performance_df['portfolio_return'] = (performance_df['portfolio_value'] / performance_df['portfolio_value'].iloc[0] - 1) * 100\n",
    "performance_df['stock_return'] = (performance_df['stock_value'] / performance_df['stock_value'].iloc[0] - 1) * 100\n",
    "\n",
    "plt.figure(figsize=(12, 6))\n",
    "\n",
    "plt.plot(performance_df.index, performance_df['stock_return'], label=f'{symbol} Stock Return (%)', color='blue')\n",
    "\n",
    "plt.plot(performance_df.index, performance_df['portfolio_return'], label='Portfolio Return (%)', color='green')\n",
    "\n",
    "plt.title(f'{symbol} Stock Return (%) vs. Portfolio Return (%) (EMA Crossover Strategy)')\n",
    "plt.xlabel('Date')\n",
    "plt.ylabel('Return (%)')\n",
    "plt.legend()\n",
    "\n",
    "plt.show()"
   ]
  },
  {
   "cell_type": "code",
   "execution_count": null,
   "metadata": {},
   "outputs": [],
   "source": []
  }
 ],
 "metadata": {
  "kernelspec": {
   "display_name": "Python 3",
   "language": "python",
   "name": "python3"
  },
  "language_info": {
   "codemirror_mode": {
    "name": "ipython",
    "version": 3
   },
   "file_extension": ".py",
   "mimetype": "text/x-python",
   "name": "python",
   "nbconvert_exporter": "python",
   "pygments_lexer": "ipython3",
   "version": "3.10.11"
  }
 },
 "nbformat": 4,
 "nbformat_minor": 2
}
