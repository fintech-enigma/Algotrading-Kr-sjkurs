{
 "cells": [
  {
   "cell_type": "markdown",
   "metadata": {},
   "source": [
    "# Script hvor vi kalkulerer ulike indikatorer for aksjer"
   ]
  },
  {
   "cell_type": "code",
   "execution_count": 1,
   "metadata": {},
   "outputs": [],
   "source": [
    "import pandas_ta as ta\n",
    "import alpaca_trade_api as tradeapi\n",
    "import pandas as pd\n",
    "import os\n",
    "from dotenv import load_dotenv\n",
    "from alpaca_trade_api.rest import TimeFrame\n",
    "import datetime as dt\n",
    "import pytz"
   ]
  },
  {
   "cell_type": "code",
   "execution_count": 2,
   "metadata": {},
   "outputs": [
    {
     "data": {
      "text/plain": [
       "True"
      ]
     },
     "execution_count": 2,
     "metadata": {},
     "output_type": "execute_result"
    }
   ],
   "source": [
    "load_dotenv()"
   ]
  },
  {
   "cell_type": "code",
   "execution_count": 3,
   "metadata": {},
   "outputs": [],
   "source": [
    "API_KEY = os.getenv('API_KEY')\n",
    "SECRET_KEY = os.getenv('SECRET_KEY')\n",
    "END_POINT = os.getenv('END_POINT')"
   ]
  },
  {
   "cell_type": "code",
   "execution_count": 4,
   "metadata": {},
   "outputs": [],
   "source": [
    "api = tradeapi.REST(API_KEY, SECRET_KEY, END_POINT, api_version='v2')\n",
    "\n",
    "GMT = pytz.timezone('GMT')\n",
    "\n",
    "time_now = dt.datetime.now(tz=GMT)\n",
    "time_15_min_ago = time_now - dt.timedelta(minutes=15)\n",
    "time_1_hr_ago = time_now - dt.timedelta(hours=20)\n",
    "\n",
    "bars = api.get_bars('AAPL', TimeFrame.Minute, \n",
    "             start=time_1_hr_ago.isoformat(), \n",
    "             end=time_15_min_ago.isoformat(), \n",
    "             adjustment='raw'\n",
    "             ).df\n",
    "\n",
    "\n",
    "bars = pd.DataFrame(bars)"
   ]
  },
  {
   "cell_type": "code",
   "execution_count": 5,
   "metadata": {},
   "outputs": [
    {
     "data": {
      "text/html": [
       "<div>\n",
       "<style scoped>\n",
       "    .dataframe tbody tr th:only-of-type {\n",
       "        vertical-align: middle;\n",
       "    }\n",
       "\n",
       "    .dataframe tbody tr th {\n",
       "        vertical-align: top;\n",
       "    }\n",
       "\n",
       "    .dataframe thead th {\n",
       "        text-align: right;\n",
       "    }\n",
       "</style>\n",
       "<table border=\"1\" class=\"dataframe\">\n",
       "  <thead>\n",
       "    <tr style=\"text-align: right;\">\n",
       "      <th></th>\n",
       "      <th>close</th>\n",
       "      <th>ema_180</th>\n",
       "      <th>rsi</th>\n",
       "      <th>sma_50</th>\n",
       "    </tr>\n",
       "    <tr>\n",
       "      <th>time</th>\n",
       "      <th></th>\n",
       "      <th></th>\n",
       "      <th></th>\n",
       "      <th></th>\n",
       "    </tr>\n",
       "  </thead>\n",
       "  <tbody>\n",
       "    <tr>\n",
       "      <th>2024-08-15 14:23:00+00:00</th>\n",
       "      <td>224.870</td>\n",
       "      <td>223.352068</td>\n",
       "      <td>64.171568</td>\n",
       "      <td>223.994862</td>\n",
       "    </tr>\n",
       "    <tr>\n",
       "      <th>2024-08-15 14:24:00+00:00</th>\n",
       "      <td>224.850</td>\n",
       "      <td>223.368620</td>\n",
       "      <td>63.213372</td>\n",
       "      <td>224.027462</td>\n",
       "    </tr>\n",
       "    <tr>\n",
       "      <th>2024-08-15 14:25:00+00:00</th>\n",
       "      <td>224.730</td>\n",
       "      <td>223.383663</td>\n",
       "      <td>57.651064</td>\n",
       "      <td>224.059102</td>\n",
       "    </tr>\n",
       "    <tr>\n",
       "      <th>2024-08-15 14:26:00+00:00</th>\n",
       "      <td>224.805</td>\n",
       "      <td>223.399368</td>\n",
       "      <td>60.018971</td>\n",
       "      <td>224.090002</td>\n",
       "    </tr>\n",
       "    <tr>\n",
       "      <th>2024-08-15 14:27:00+00:00</th>\n",
       "      <td>224.810</td>\n",
       "      <td>223.414955</td>\n",
       "      <td>60.178828</td>\n",
       "      <td>224.125902</td>\n",
       "    </tr>\n",
       "  </tbody>\n",
       "</table>\n",
       "</div>"
      ],
      "text/plain": [
       "                             close     ema_180        rsi      sma_50\n",
       "time                                                                 \n",
       "2024-08-15 14:23:00+00:00  224.870  223.352068  64.171568  223.994862\n",
       "2024-08-15 14:24:00+00:00  224.850  223.368620  63.213372  224.027462\n",
       "2024-08-15 14:25:00+00:00  224.730  223.383663  57.651064  224.059102\n",
       "2024-08-15 14:26:00+00:00  224.805  223.399368  60.018971  224.090002\n",
       "2024-08-15 14:27:00+00:00  224.810  223.414955  60.178828  224.125902"
      ]
     },
     "execution_count": 5,
     "metadata": {},
     "output_type": "execute_result"
    }
   ],
   "source": [
    "# Convert to DataFrame\n",
    "data = pd.DataFrame({\n",
    "    'time': bars.index,\n",
    "    'close': bars.close\n",
    "})\n",
    "data.set_index('time', inplace=True)\n",
    "\n",
    "# print(data.tail())\n",
    "# Calculate indicators using Pandas TA\n",
    "data['ema_180'] = ta.ema(data['close'], length=180)\n",
    "data['rsi'] = ta.rsi(data['close'], length=14)\n",
    "data['sma_50'] = ta.sma(data['close'], length=50)\n",
    "\n",
    "data.tail()"
   ]
  }
 ],
 "metadata": {
  "kernelspec": {
   "display_name": "env",
   "language": "python",
   "name": "python3"
  },
  "language_info": {
   "codemirror_mode": {
    "name": "ipython",
    "version": 3
   },
   "file_extension": ".py",
   "mimetype": "text/x-python",
   "name": "python",
   "nbconvert_exporter": "python",
   "pygments_lexer": "ipython3",
   "version": "3.10.11"
  }
 },
 "nbformat": 4,
 "nbformat_minor": 2
}
